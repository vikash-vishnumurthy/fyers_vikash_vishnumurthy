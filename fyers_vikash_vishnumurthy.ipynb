{
 "cells": [
  {
   "cell_type": "markdown",
   "metadata": {},
   "source": [
    "# Without using pandas:"
   ]
  },
  {
   "cell_type": "code",
   "execution_count": 68,
   "metadata": {},
   "outputs": [],
   "source": [
    "countdic = {}\n",
    "airlines = open('airlines.csv','r')\n",
    "lines = airlines.readlines()\n",
    "flag = 0\n",
    "for line in lines:\n",
    "    if flag == 1:\n",
    "        name = line.split(',')\n",
    "        name = name[1]+name[2]\n",
    "        countdic[name]=0\n",
    "    else:\n",
    "        flag = 1\n",
    "flag = 0\n",
    "for line in lines:\n",
    "    if flag ==1:\n",
    "        name = line.split(',')\n",
    "        name = name[1]+name[2]\n",
    "        countdic[name]+=1\n",
    "    else:\n",
    "        flag =1\n"
   ]
  },
  {
   "cell_type": "markdown",
   "metadata": {},
   "source": [
    "# Output 1: Get list of unique airport names and number of times it is repeated in a json format"
   ]
  },
  {
   "cell_type": "code",
   "execution_count": 69,
   "metadata": {},
   "outputs": [
    {
     "name": "stdout",
     "output_type": "stream",
     "text": [
      "{\n",
      "    \"\\\"Atlanta GA: Hartsfield-Jackson Atlanta International\\\"\": 154,\n",
      "    \"\\\"Boston MA: Logan International\\\"\": 150,\n",
      "    \"\\\"Baltimore MD: Baltimore/Washington International Thurgood Marshall\\\"\": 150,\n",
      "    \"\\\"Charlotte NC: Charlotte Douglas International\\\"\": 150,\n",
      "    \"\\\"Washington DC: Ronald Reagan Washington National\\\"\": 150,\n",
      "    \"\\\"Denver CO: Denver International\\\"\": 150,\n",
      "    \"\\\"Dallas/Fort Worth TX: Dallas/Fort Worth International\\\"\": 150,\n",
      "    \"\\\"Detroit MI: Detroit Metro Wayne County\\\"\": 150,\n",
      "    \"\\\"Newark NJ: Newark Liberty International\\\"\": 150,\n",
      "    \"\\\"Fort Lauderdale FL: Fort Lauderdale-Hollywood International\\\"\": 150,\n",
      "    \"\\\"Washington DC: Washington Dulles International\\\"\": 150,\n",
      "    \"\\\"Houston TX: George Bush Intercontinental/Houston\\\"\": 150,\n",
      "    \"\\\"New York NY: John F. Kennedy International\\\"\": 150,\n",
      "    \"\\\"Las Vegas NV: McCarran International\\\"\": 150,\n",
      "    \"\\\"Los Angeles CA: Los Angeles International\\\"\": 150,\n",
      "    \"\\\"New York NY: LaGuardia\\\"\": 150,\n",
      "    \"\\\"Orlando FL: Orlando International\\\"\": 150,\n",
      "    \"\\\"Chicago IL: Chicago Midway International\\\"\": 150,\n",
      "    \"\\\"Miami FL: Miami International\\\"\": 150,\n",
      "    \"\\\"Minneapolis MN: Minneapolis-St Paul International\\\"\": 150,\n",
      "    \"\\\"Chicago IL: Chicago O'Hare International\\\"\": 150,\n",
      "    \"\\\"Portland OR: Portland International\\\"\": 149,\n",
      "    \"\\\"Philadelphia PA: Philadelphia International\\\"\": 149,\n",
      "    \"\\\"Phoenix AZ: Phoenix Sky Harbor International\\\"\": 137,\n",
      "    \"\\\"San Diego CA: San Diego International\\\"\": 149,\n",
      "    \"\\\"Seattle WA: Seattle/Tacoma International\\\"\": 149,\n",
      "    \"\\\"San Francisco CA: San Francisco International\\\"\": 149,\n",
      "    \"\\\"Salt Lake City UT: Salt Lake City International\\\"\": 149,\n",
      "    \"\\\"Tampa FL: Tampa International\\\"\": 149\n",
      "}\n"
     ]
    }
   ],
   "source": [
    "import json\n",
    "print(json.dumps(countdic,indent=4))"
   ]
  },
  {
   "cell_type": "markdown",
   "metadata": {},
   "source": [
    "# Output 2: Which airport is mentioned highest number of times and its count"
   ]
  },
  {
   "cell_type": "code",
   "execution_count": 70,
   "metadata": {},
   "outputs": [
    {
     "name": "stdout",
     "output_type": "stream",
     "text": [
      "\"Atlanta GA: Hartsfield-Jackson Atlanta International\" Count = 154\n"
     ]
    }
   ],
   "source": [
    "v = list(countdic.values())\n",
    "k = list(countdic.keys())\n",
    "print(k[v.index(max(v))],'Count = {}'.format(max(v)))"
   ]
  },
  {
   "cell_type": "markdown",
   "metadata": {},
   "source": [
    "# Output 3: Which airport is mentioned lowest number of times and its count"
   ]
  },
  {
   "cell_type": "code",
   "execution_count": 71,
   "metadata": {},
   "outputs": [
    {
     "name": "stdout",
     "output_type": "stream",
     "text": [
      "\"Phoenix AZ: Phoenix Sky Harbor International\" Count = 137\n"
     ]
    }
   ],
   "source": [
    "v = list(countdic.values())\n",
    "k = list(countdic.keys())\n",
    "print(k[v.index(min(v))],'Count = {}'.format(min(v)))"
   ]
  },
  {
   "cell_type": "markdown",
   "metadata": {},
   "source": [
    "# Using Pandas"
   ]
  },
  {
   "cell_type": "code",
   "execution_count": 72,
   "metadata": {},
   "outputs": [
    {
     "data": {
      "text/html": [
       "<div>\n",
       "<style scoped>\n",
       "    .dataframe tbody tr th:only-of-type {\n",
       "        vertical-align: middle;\n",
       "    }\n",
       "\n",
       "    .dataframe tbody tr th {\n",
       "        vertical-align: top;\n",
       "    }\n",
       "\n",
       "    .dataframe thead th {\n",
       "        text-align: right;\n",
       "    }\n",
       "</style>\n",
       "<table border=\"1\" class=\"dataframe\">\n",
       "  <thead>\n",
       "    <tr style=\"text-align: right;\">\n",
       "      <th></th>\n",
       "      <th>Airport.Code</th>\n",
       "      <th>Airport.Name</th>\n",
       "      <th>Time.Year</th>\n",
       "      <th>Statistics.Flights.Cancelled</th>\n",
       "    </tr>\n",
       "  </thead>\n",
       "  <tbody>\n",
       "    <tr>\n",
       "      <th>0</th>\n",
       "      <td>ATL</td>\n",
       "      <td>Atlanta, GA: Hartsfield-Jackson Atlanta Intern...</td>\n",
       "      <td>2003</td>\n",
       "      <td>216</td>\n",
       "    </tr>\n",
       "    <tr>\n",
       "      <th>1</th>\n",
       "      <td>BOS</td>\n",
       "      <td>Boston, MA: Logan International</td>\n",
       "      <td>2003</td>\n",
       "      <td>138</td>\n",
       "    </tr>\n",
       "    <tr>\n",
       "      <th>2</th>\n",
       "      <td>BWI</td>\n",
       "      <td>Baltimore, MD: Baltimore/Washington Internatio...</td>\n",
       "      <td>2003</td>\n",
       "      <td>29</td>\n",
       "    </tr>\n",
       "    <tr>\n",
       "      <th>3</th>\n",
       "      <td>CLT</td>\n",
       "      <td>Charlotte, NC: Charlotte Douglas International</td>\n",
       "      <td>2003</td>\n",
       "      <td>73</td>\n",
       "    </tr>\n",
       "    <tr>\n",
       "      <th>4</th>\n",
       "      <td>DCA</td>\n",
       "      <td>Washington, DC: Ronald Reagan Washington National</td>\n",
       "      <td>2003</td>\n",
       "      <td>74</td>\n",
       "    </tr>\n",
       "    <tr>\n",
       "      <th>...</th>\n",
       "      <td>...</td>\n",
       "      <td>...</td>\n",
       "      <td>...</td>\n",
       "      <td>...</td>\n",
       "    </tr>\n",
       "    <tr>\n",
       "      <th>4329</th>\n",
       "      <td>ORD</td>\n",
       "      <td>Chicago, IL: Chicago O'Hare International</td>\n",
       "      <td>2015</td>\n",
       "      <td>875</td>\n",
       "    </tr>\n",
       "    <tr>\n",
       "      <th>4330</th>\n",
       "      <td>ATL</td>\n",
       "      <td>Atlanta, GA: Hartsfield-Jackson Atlanta Intern...</td>\n",
       "      <td>2003</td>\n",
       "      <td>216</td>\n",
       "    </tr>\n",
       "    <tr>\n",
       "      <th>4331</th>\n",
       "      <td>ATL</td>\n",
       "      <td>Atlanta, GA: Hartsfield-Jackson Atlanta Intern...</td>\n",
       "      <td>2003</td>\n",
       "      <td>216</td>\n",
       "    </tr>\n",
       "    <tr>\n",
       "      <th>4332</th>\n",
       "      <td>ATL</td>\n",
       "      <td>Atlanta, GA: Hartsfield-Jackson Atlanta Intern...</td>\n",
       "      <td>2003</td>\n",
       "      <td>216</td>\n",
       "    </tr>\n",
       "    <tr>\n",
       "      <th>4333</th>\n",
       "      <td>ATL</td>\n",
       "      <td>Atlanta, GA: Hartsfield-Jackson Atlanta Intern...</td>\n",
       "      <td>2003</td>\n",
       "      <td>216</td>\n",
       "    </tr>\n",
       "  </tbody>\n",
       "</table>\n",
       "<p>4334 rows × 4 columns</p>\n",
       "</div>"
      ],
      "text/plain": [
       "     Airport.Code                                       Airport.Name  \\\n",
       "0             ATL  Atlanta, GA: Hartsfield-Jackson Atlanta Intern...   \n",
       "1             BOS                    Boston, MA: Logan International   \n",
       "2             BWI  Baltimore, MD: Baltimore/Washington Internatio...   \n",
       "3             CLT     Charlotte, NC: Charlotte Douglas International   \n",
       "4             DCA  Washington, DC: Ronald Reagan Washington National   \n",
       "...           ...                                                ...   \n",
       "4329          ORD          Chicago, IL: Chicago O'Hare International   \n",
       "4330          ATL  Atlanta, GA: Hartsfield-Jackson Atlanta Intern...   \n",
       "4331          ATL  Atlanta, GA: Hartsfield-Jackson Atlanta Intern...   \n",
       "4332          ATL  Atlanta, GA: Hartsfield-Jackson Atlanta Intern...   \n",
       "4333          ATL  Atlanta, GA: Hartsfield-Jackson Atlanta Intern...   \n",
       "\n",
       "      Time.Year  Statistics.Flights.Cancelled  \n",
       "0          2003                           216  \n",
       "1          2003                           138  \n",
       "2          2003                            29  \n",
       "3          2003                            73  \n",
       "4          2003                            74  \n",
       "...         ...                           ...  \n",
       "4329       2015                           875  \n",
       "4330       2003                           216  \n",
       "4331       2003                           216  \n",
       "4332       2003                           216  \n",
       "4333       2003                           216  \n",
       "\n",
       "[4334 rows x 4 columns]"
      ]
     },
     "execution_count": 72,
     "metadata": {},
     "output_type": "execute_result"
    }
   ],
   "source": [
    "import pandas as pd\n",
    "airlines = pd.read_csv('airlines.csv')\n",
    "airlines"
   ]
  },
  {
   "cell_type": "markdown",
   "metadata": {},
   "source": [
    "# Output 1: Get list of unique airport names and number of times it is repeated in a json format"
   ]
  },
  {
   "cell_type": "code",
   "execution_count": 73,
   "metadata": {},
   "outputs": [
    {
     "data": {
      "text/plain": [
       "'{\"Atlanta, GA: Hartsfield-Jackson Atlanta International\":154,\"Chicago, IL: Chicago Midway International\":150,\"Newark, NJ: Newark Liberty International\":150,\"Los Angeles, CA: Los Angeles International\":150,\"Denver, CO: Denver International\":150,\"Minneapolis, MN: Minneapolis-St Paul International\":150,\"Baltimore, MD: Baltimore\\\\/Washington International Thurgood Marshall\":150,\"Chicago, IL: Chicago O\\'Hare International\":150,\"Boston, MA: Logan International\":150,\"Houston, TX: George Bush Intercontinental\\\\/Houston\":150,\"Detroit, MI: Detroit Metro Wayne County\":150,\"Washington, DC: Washington Dulles International\":150,\"Dallas\\\\/Fort Worth, TX: Dallas\\\\/Fort Worth International\":150,\"Orlando, FL: Orlando International\":150,\"Las Vegas, NV: McCarran International\":150,\"Charlotte, NC: Charlotte Douglas International\":150,\"Washington, DC: Ronald Reagan Washington National\":150,\"New York, NY: John F. Kennedy International\":150,\"Fort Lauderdale, FL: Fort Lauderdale-Hollywood International\":150,\"Miami, FL: Miami International\":150,\"New York, NY: LaGuardia\":150,\"San Diego, CA: San Diego International\":149,\"San Francisco, CA: San Francisco International\":149,\"Seattle, WA: Seattle\\\\/Tacoma International\":149,\"Philadelphia, PA: Philadelphia International\":149,\"Salt Lake City, UT: Salt Lake City International\":149,\"Portland, OR: Portland International\":149,\"Tampa, FL: Tampa International\":149,\"Phoenix, AZ: Phoenix Sky Harbor International\":137}'"
      ]
     },
     "execution_count": 73,
     "metadata": {},
     "output_type": "execute_result"
    }
   ],
   "source": [
    "airlines['Airport.Name'].value_counts().to_json()"
   ]
  },
  {
   "cell_type": "markdown",
   "metadata": {},
   "source": [
    "# Output 2: Which airport is mentioned highest number of times and its count"
   ]
  },
  {
   "cell_type": "code",
   "execution_count": 74,
   "metadata": {},
   "outputs": [
    {
     "data": {
      "text/plain": [
       "Atlanta, GA: Hartsfield-Jackson Atlanta International    154\n",
       "Name: Airport.Name, dtype: int64"
      ]
     },
     "execution_count": 74,
     "metadata": {},
     "output_type": "execute_result"
    }
   ],
   "source": [
    "airlines['Airport.Name'].value_counts().head(1)"
   ]
  },
  {
   "cell_type": "markdown",
   "metadata": {},
   "source": [
    "# Output 3: Which airport is mentioned lowest number of times and its count"
   ]
  },
  {
   "cell_type": "code",
   "execution_count": 75,
   "metadata": {},
   "outputs": [
    {
     "data": {
      "text/plain": [
       "Phoenix, AZ: Phoenix Sky Harbor International    137\n",
       "Name: Airport.Name, dtype: int64"
      ]
     },
     "execution_count": 75,
     "metadata": {},
     "output_type": "execute_result"
    }
   ],
   "source": [
    "airlines['Airport.Name'].value_counts().tail(1)"
   ]
  }
 ],
 "metadata": {
  "kernelspec": {
   "display_name": "Python 3.8.3 64-bit ('base': conda)",
   "language": "python",
   "name": "python38364bitbaseconda8fcf5c2b19804aad9c569b53c3572776"
  },
  "language_info": {
   "codemirror_mode": {
    "name": "ipython",
    "version": 3
   },
   "file_extension": ".py",
   "mimetype": "text/x-python",
   "name": "python",
   "nbconvert_exporter": "python",
   "pygments_lexer": "ipython3",
   "version": "3.8.3"
  }
 },
 "nbformat": 4,
 "nbformat_minor": 4
}
